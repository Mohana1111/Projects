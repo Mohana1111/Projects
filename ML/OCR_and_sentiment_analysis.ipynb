{
 "cells": [
  {
   "cell_type": "markdown",
   "id": "48dcfe90-e89e-4542-9abf-98caac23f9df",
   "metadata": {},
   "source": [
    "#### ***OCR BUILDING PART***"
   ]
  },
  {
   "cell_type": "markdown",
   "id": "57764392-56e6-41af-bc46-dce3a5d69e4f",
   "metadata": {},
   "source": [
    "#### ***IMPORT DEPENDENCIES***"
   ]
  },
  {
   "cell_type": "code",
   "execution_count": 2,
   "id": "4afe2113-6dc2-4ebd-8cf4-c189a3f85199",
   "metadata": {},
   "outputs": [],
   "source": [
    "import numpy as np\n",
    "import pandas as pd\n",
    "import math\n",
    "import cv2\n",
    "import tensorflow as tf\n",
    "from tensorflow.keras.models import Sequential\n",
    "from sklearn.preprocessing import LabelEncoder\n",
    "from sklearn.model_selection import train_test_split\n",
    "from tensorflow.keras.utils import to_categorical\n",
    "from tensorflow.keras.layers import Input, Conv2D, MaxPooling2D, Flatten, Dense, Dropout\n",
    "from tensorflow.keras.models import Model\n",
    "from tensorflow.keras.callbacks import TensorBoard"
   ]
  },
  {
   "cell_type": "code",
   "execution_count": 1,
   "id": "b0f24a0b-a08c-4ee7-936c-3480a4a892a9",
   "metadata": {},
   "outputs": [
    {
     "name": "stdout",
     "output_type": "stream",
     "text": [
      "Defaulting to user installation because normal site-packages is not writeable\n",
      "Requirement already satisfied: psutil in /Users/mohana25/Library/Python/3.9/lib/python/site-packages (5.9.8)\n"
     ]
    }
   ],
   "source": [
    "!pip install psutil"
   ]
  },
  {
   "cell_type": "code",
   "execution_count": 2,
   "id": "bd34bcee-ad44-4452-8f31-f4deba523b47",
   "metadata": {},
   "outputs": [
    {
     "name": "stdout",
     "output_type": "stream",
     "text": [
      "13.8\n",
      "84.2\n"
     ]
    }
   ],
   "source": [
    "import psutil\n",
    "print(psutil.cpu_percent())\n",
    "print(psutil.virtual_memory().percent)"
   ]
  },
  {
   "cell_type": "markdown",
   "id": "79a3d28c-6b62-4aed-a7b4-e405d2c563f3",
   "metadata": {},
   "source": [
    "#### ***LOADING DATA AND PREPROCESSING***"
   ]
  },
  {
   "cell_type": "code",
   "execution_count": 4,
   "id": "04f403ed-f342-4689-b0f7-3c8d2ea2a5a2",
   "metadata": {},
   "outputs": [
    {
     "name": "stderr",
     "output_type": "stream",
     "text": [
      "/var/folders/8j/2bschcy91hl2lzf_yf5v4gb00000gn/T/ipykernel_70973/2385869485.py:1: DtypeWarning: Columns (1,2,3,4) have mixed types. Specify dtype option on import or set low_memory=False.\n",
      "  df = pd.read_csv('alphabets.csv', header = 0)\n"
     ]
    }
   ],
   "source": [
    "df = pd.read_csv('alphabets.csv', header = 0)\n",
    "df = df[df['label'].str.isalpha() & df['label'].str.isupper()]\n",
    "df = df.reset_index(drop=True)"
   ]
  },
  {
   "cell_type": "code",
   "execution_count": 5,
   "id": "8dbba110-add1-44a0-a875-694f76345f47",
   "metadata": {},
   "outputs": [
    {
     "data": {
      "text/plain": [
       "(371391, 785)"
      ]
     },
     "execution_count": 5,
     "metadata": {},
     "output_type": "execute_result"
    }
   ],
   "source": [
    "df.shape"
   ]
  },
  {
   "cell_type": "code",
   "execution_count": 3,
   "id": "d8d42fbc-6bfe-488c-ab60-cdf18458110c",
   "metadata": {},
   "outputs": [],
   "source": [
    "labels = df.iloc[:,0]\n",
    "alpha_df = df.iloc[:,1:]\n",
    "alpha_df=alpha_df.astype(float)\n",
    "data = alpha_df.to_numpy()"
   ]
  },
  {
   "cell_type": "code",
   "execution_count": 4,
   "id": "05447546-7280-4335-b1fd-3e8865347a9c",
   "metadata": {},
   "outputs": [],
   "source": [
    "#Reshaping to make proper array\n",
    "num_images = data.shape[0]\n",
    "images = data.reshape((num_images,28, 28, 1))\n",
    "\n",
    "#Normalize to range [0,1]\n",
    "images = images/255.0"
   ]
  },
  {
   "cell_type": "code",
   "execution_count": 48,
   "id": "63de96b4-5e9e-4d97-b0dc-fa444bd21115",
   "metadata": {},
   "outputs": [
    {
     "data": {
      "text/plain": [
       "0.0"
      ]
     },
     "execution_count": 48,
     "metadata": {},
     "output_type": "execute_result"
    }
   ],
   "source": [
    "images[37899][17][27][0]"
   ]
  },
  {
   "cell_type": "markdown",
   "id": "e252e70c-3d39-4072-8872-b61a357be4b9",
   "metadata": {},
   "source": [
    "#### ***MAKING OUR MODEL***"
   ]
  },
  {
   "cell_type": "code",
   "execution_count": 5,
   "id": "7d7376ef-f40d-4416-9f0a-19b88edb8e47",
   "metadata": {},
   "outputs": [
    {
     "name": "stderr",
     "output_type": "stream",
     "text": [
      "/Users/mohana25/Library/Python/3.9/lib/python/site-packages/keras/src/layers/convolutional/base_conv.py:107: UserWarning: Do not pass an `input_shape`/`input_dim` argument to a layer. When using Sequential models, prefer using an `Input(shape)` object as the first layer in the model instead.\n",
      "  super().__init__(activity_regularizer=activity_regularizer, **kwargs)\n"
     ]
    }
   ],
   "source": [
    "def cnn_model(shape, num_labels) :\n",
    "    model = Sequential()\n",
    "    model.add(Conv2D(32,(3,3), activation='relu', padding='same', input_shape=shape))\n",
    "    model.add(MaxPooling2D((2,2)))\n",
    "    model.add(Conv2D(64, (3, 3), activation='relu', padding='same'))\n",
    "    model.add(MaxPooling2D((2, 2)))\n",
    "    model.add(Conv2D(128, (3, 3), activation='relu', padding='same'))\n",
    "    model.add(MaxPooling2D((2, 2)))\n",
    "    model.add(Flatten())\n",
    "    model.add(Dense(64, activation='relu'))\n",
    "    model.add(Dropout(0.5))\n",
    "    model.add(Dense(num_labels, activation='softmax'))\n",
    "    model.compile(optimizer='adam', loss='categorical_crossentropy', metrics=['accuracy'])\n",
    "    return model\n",
    "shape = (28, 28, 1)\n",
    "num_labels = 26 #Alphabets\n",
    "model = cnn_model(shape, num_labels)\n",
    "\n",
    "#Prepare tensorboard callback\n",
    "tensorboard_callback = TensorBoard(log_dir='./logs')\n",
    "\n",
    "#We have a work of making proper labels\n",
    "label_mapping = {chr(i+65) : i for i in range(26)}\n",
    "numerical_labels = np.array([label_mapping[label] for label in labels])\n",
    "f_labels = to_categorical(numerical_labels, num_classes=num_labels)"
   ]
  },
  {
   "cell_type": "code",
   "execution_count": null,
   "id": "c51f3995-51dc-4e39-b7ba-cab9dab25404",
   "metadata": {},
   "outputs": [],
   "source": []
  },
  {
   "cell_type": "markdown",
   "id": "f96e1c99-9a5d-4e11-8337-af8832587698",
   "metadata": {},
   "source": [
    "#### ***TRAINING AND EVALUATING OUR MODEL***"
   ]
  },
  {
   "cell_type": "code",
   "execution_count": 9,
   "id": "ad72870e-6113-4939-98a4-d044e29372e9",
   "metadata": {},
   "outputs": [],
   "source": [
    "x_train, x_test, y_train, y_test = train_test_split(images, f_labels, test_size=0.2, random_state=42)"
   ]
  },
  {
   "cell_type": "code",
   "execution_count": null,
   "id": "07bf5c5d-904e-4132-b621-8af003072e4a",
   "metadata": {},
   "outputs": [],
   "source": [
    "training = model.fit(x_train, y_train, epochs=5, batch_size=32, verbose=1, callbacks=[tensorboard_callback])"
   ]
  },
  {
   "cell_type": "code",
   "execution_count": null,
   "id": "d2c13fb4-3aec-4948-b749-86a0cdb43ab0",
   "metadata": {},
   "outputs": [],
   "source": []
  },
  {
   "cell_type": "code",
   "execution_count": 13,
   "id": "c2e943d3-10f9-4a5f-bffa-77486819e841",
   "metadata": {},
   "outputs": [
    {
     "name": "stdout",
     "output_type": "stream",
     "text": [
      "\u001b[1m2322/2322\u001b[0m \u001b[32m━━━━━━━━━━━━━━━━━━━━\u001b[0m\u001b[37m\u001b[0m \u001b[1m9s\u001b[0m 4ms/step - accuracy: 0.9901 - loss: 0.0374\n",
      "0.0379519984126091 0.9899433255195618\n"
     ]
    }
   ],
   "source": [
    "loss, accuracy = model.evaluate(x_test, y_test)\n",
    "print(loss, accuracy)"
   ]
  },
  {
   "cell_type": "markdown",
   "id": "de13bd34-65ba-40de-b1f1-ea9a59832cd0",
   "metadata": {},
   "source": [
    "### ***SENTIMENT ANALYSIS PART***"
   ]
  },
  {
   "cell_type": "markdown",
   "id": "bfd0c172-8f18-4b31-b24f-2778e96a542e",
   "metadata": {},
   "source": [
    "#### ***USING MULTINOMIALNB***"
   ]
  },
  {
   "cell_type": "code",
   "execution_count": 30,
   "id": "1567c6d6-64d8-4c25-b516-5693cfe784d8",
   "metadata": {},
   "outputs": [
    {
     "data": {
      "text/plain": [
       "<30x272 sparse matrix of type '<class 'numpy.int64'>'\n",
       "\twith 555 stored elements in Compressed Sparse Row format>"
      ]
     },
     "execution_count": 30,
     "metadata": {},
     "output_type": "execute_result"
    }
   ],
   "source": [
    "from sklearn.feature_extraction.text import CountVectorizer\n",
    "df = pd.read_csv('sentiment_analysis_dataset.csv')\n",
    "\n",
    "#df['line'] = df['line'].apply(preprocess)\n",
    "#Vectorize the text data\n",
    "vectorizer = CountVectorizer()\n",
    "x = vectorizer.fit_transform(df['line'])\n",
    "\n",
    "#Encode labels\n",
    "y = df['sentiment'].map({'Happy':1, 'Neutral':0, 'Angry':-1})\n",
    "x"
   ]
  },
  {
   "cell_type": "code",
   "execution_count": 31,
   "id": "370c7981-935b-490c-935f-9bb12dea0deb",
   "metadata": {},
   "outputs": [],
   "source": [
    "#Splitting the data\n",
    "x_train, x_test, y_train, y_test = train_test_split(x, y, test_size=0.2, random_state=42)"
   ]
  },
  {
   "cell_type": "code",
   "execution_count": 32,
   "id": "12db1202-d003-41a2-bb1c-241473ae01db",
   "metadata": {},
   "outputs": [
    {
     "data": {
      "text/html": [
       "<style>#sk-container-id-2 {\n",
       "  /* Definition of color scheme common for light and dark mode */\n",
       "  --sklearn-color-text: black;\n",
       "  --sklearn-color-line: gray;\n",
       "  /* Definition of color scheme for unfitted estimators */\n",
       "  --sklearn-color-unfitted-level-0: #fff5e6;\n",
       "  --sklearn-color-unfitted-level-1: #f6e4d2;\n",
       "  --sklearn-color-unfitted-level-2: #ffe0b3;\n",
       "  --sklearn-color-unfitted-level-3: chocolate;\n",
       "  /* Definition of color scheme for fitted estimators */\n",
       "  --sklearn-color-fitted-level-0: #f0f8ff;\n",
       "  --sklearn-color-fitted-level-1: #d4ebff;\n",
       "  --sklearn-color-fitted-level-2: #b3dbfd;\n",
       "  --sklearn-color-fitted-level-3: cornflowerblue;\n",
       "\n",
       "  /* Specific color for light theme */\n",
       "  --sklearn-color-text-on-default-background: var(--sg-text-color, var(--theme-code-foreground, var(--jp-content-font-color1, black)));\n",
       "  --sklearn-color-background: var(--sg-background-color, var(--theme-background, var(--jp-layout-color0, white)));\n",
       "  --sklearn-color-border-box: var(--sg-text-color, var(--theme-code-foreground, var(--jp-content-font-color1, black)));\n",
       "  --sklearn-color-icon: #696969;\n",
       "\n",
       "  @media (prefers-color-scheme: dark) {\n",
       "    /* Redefinition of color scheme for dark theme */\n",
       "    --sklearn-color-text-on-default-background: var(--sg-text-color, var(--theme-code-foreground, var(--jp-content-font-color1, white)));\n",
       "    --sklearn-color-background: var(--sg-background-color, var(--theme-background, var(--jp-layout-color0, #111)));\n",
       "    --sklearn-color-border-box: var(--sg-text-color, var(--theme-code-foreground, var(--jp-content-font-color1, white)));\n",
       "    --sklearn-color-icon: #878787;\n",
       "  }\n",
       "}\n",
       "\n",
       "#sk-container-id-2 {\n",
       "  color: var(--sklearn-color-text);\n",
       "}\n",
       "\n",
       "#sk-container-id-2 pre {\n",
       "  padding: 0;\n",
       "}\n",
       "\n",
       "#sk-container-id-2 input.sk-hidden--visually {\n",
       "  border: 0;\n",
       "  clip: rect(1px 1px 1px 1px);\n",
       "  clip: rect(1px, 1px, 1px, 1px);\n",
       "  height: 1px;\n",
       "  margin: -1px;\n",
       "  overflow: hidden;\n",
       "  padding: 0;\n",
       "  position: absolute;\n",
       "  width: 1px;\n",
       "}\n",
       "\n",
       "#sk-container-id-2 div.sk-dashed-wrapped {\n",
       "  border: 1px dashed var(--sklearn-color-line);\n",
       "  margin: 0 0.4em 0.5em 0.4em;\n",
       "  box-sizing: border-box;\n",
       "  padding-bottom: 0.4em;\n",
       "  background-color: var(--sklearn-color-background);\n",
       "}\n",
       "\n",
       "#sk-container-id-2 div.sk-container {\n",
       "  /* jupyter's `normalize.less` sets `[hidden] { display: none; }`\n",
       "     but bootstrap.min.css set `[hidden] { display: none !important; }`\n",
       "     so we also need the `!important` here to be able to override the\n",
       "     default hidden behavior on the sphinx rendered scikit-learn.org.\n",
       "     See: https://github.com/scikit-learn/scikit-learn/issues/21755 */\n",
       "  display: inline-block !important;\n",
       "  position: relative;\n",
       "}\n",
       "\n",
       "#sk-container-id-2 div.sk-text-repr-fallback {\n",
       "  display: none;\n",
       "}\n",
       "\n",
       "div.sk-parallel-item,\n",
       "div.sk-serial,\n",
       "div.sk-item {\n",
       "  /* draw centered vertical line to link estimators */\n",
       "  background-image: linear-gradient(var(--sklearn-color-text-on-default-background), var(--sklearn-color-text-on-default-background));\n",
       "  background-size: 2px 100%;\n",
       "  background-repeat: no-repeat;\n",
       "  background-position: center center;\n",
       "}\n",
       "\n",
       "/* Parallel-specific style estimator block */\n",
       "\n",
       "#sk-container-id-2 div.sk-parallel-item::after {\n",
       "  content: \"\";\n",
       "  width: 100%;\n",
       "  border-bottom: 2px solid var(--sklearn-color-text-on-default-background);\n",
       "  flex-grow: 1;\n",
       "}\n",
       "\n",
       "#sk-container-id-2 div.sk-parallel {\n",
       "  display: flex;\n",
       "  align-items: stretch;\n",
       "  justify-content: center;\n",
       "  background-color: var(--sklearn-color-background);\n",
       "  position: relative;\n",
       "}\n",
       "\n",
       "#sk-container-id-2 div.sk-parallel-item {\n",
       "  display: flex;\n",
       "  flex-direction: column;\n",
       "}\n",
       "\n",
       "#sk-container-id-2 div.sk-parallel-item:first-child::after {\n",
       "  align-self: flex-end;\n",
       "  width: 50%;\n",
       "}\n",
       "\n",
       "#sk-container-id-2 div.sk-parallel-item:last-child::after {\n",
       "  align-self: flex-start;\n",
       "  width: 50%;\n",
       "}\n",
       "\n",
       "#sk-container-id-2 div.sk-parallel-item:only-child::after {\n",
       "  width: 0;\n",
       "}\n",
       "\n",
       "/* Serial-specific style estimator block */\n",
       "\n",
       "#sk-container-id-2 div.sk-serial {\n",
       "  display: flex;\n",
       "  flex-direction: column;\n",
       "  align-items: center;\n",
       "  background-color: var(--sklearn-color-background);\n",
       "  padding-right: 1em;\n",
       "  padding-left: 1em;\n",
       "}\n",
       "\n",
       "\n",
       "/* Toggleable style: style used for estimator/Pipeline/ColumnTransformer box that is\n",
       "clickable and can be expanded/collapsed.\n",
       "- Pipeline and ColumnTransformer use this feature and define the default style\n",
       "- Estimators will overwrite some part of the style using the `sk-estimator` class\n",
       "*/\n",
       "\n",
       "/* Pipeline and ColumnTransformer style (default) */\n",
       "\n",
       "#sk-container-id-2 div.sk-toggleable {\n",
       "  /* Default theme specific background. It is overwritten whether we have a\n",
       "  specific estimator or a Pipeline/ColumnTransformer */\n",
       "  background-color: var(--sklearn-color-background);\n",
       "}\n",
       "\n",
       "/* Toggleable label */\n",
       "#sk-container-id-2 label.sk-toggleable__label {\n",
       "  cursor: pointer;\n",
       "  display: block;\n",
       "  width: 100%;\n",
       "  margin-bottom: 0;\n",
       "  padding: 0.5em;\n",
       "  box-sizing: border-box;\n",
       "  text-align: center;\n",
       "}\n",
       "\n",
       "#sk-container-id-2 label.sk-toggleable__label-arrow:before {\n",
       "  /* Arrow on the left of the label */\n",
       "  content: \"▸\";\n",
       "  float: left;\n",
       "  margin-right: 0.25em;\n",
       "  color: var(--sklearn-color-icon);\n",
       "}\n",
       "\n",
       "#sk-container-id-2 label.sk-toggleable__label-arrow:hover:before {\n",
       "  color: var(--sklearn-color-text);\n",
       "}\n",
       "\n",
       "/* Toggleable content - dropdown */\n",
       "\n",
       "#sk-container-id-2 div.sk-toggleable__content {\n",
       "  max-height: 0;\n",
       "  max-width: 0;\n",
       "  overflow: hidden;\n",
       "  text-align: left;\n",
       "  /* unfitted */\n",
       "  background-color: var(--sklearn-color-unfitted-level-0);\n",
       "}\n",
       "\n",
       "#sk-container-id-2 div.sk-toggleable__content.fitted {\n",
       "  /* fitted */\n",
       "  background-color: var(--sklearn-color-fitted-level-0);\n",
       "}\n",
       "\n",
       "#sk-container-id-2 div.sk-toggleable__content pre {\n",
       "  margin: 0.2em;\n",
       "  border-radius: 0.25em;\n",
       "  color: var(--sklearn-color-text);\n",
       "  /* unfitted */\n",
       "  background-color: var(--sklearn-color-unfitted-level-0);\n",
       "}\n",
       "\n",
       "#sk-container-id-2 div.sk-toggleable__content.fitted pre {\n",
       "  /* unfitted */\n",
       "  background-color: var(--sklearn-color-fitted-level-0);\n",
       "}\n",
       "\n",
       "#sk-container-id-2 input.sk-toggleable__control:checked~div.sk-toggleable__content {\n",
       "  /* Expand drop-down */\n",
       "  max-height: 200px;\n",
       "  max-width: 100%;\n",
       "  overflow: auto;\n",
       "}\n",
       "\n",
       "#sk-container-id-2 input.sk-toggleable__control:checked~label.sk-toggleable__label-arrow:before {\n",
       "  content: \"▾\";\n",
       "}\n",
       "\n",
       "/* Pipeline/ColumnTransformer-specific style */\n",
       "\n",
       "#sk-container-id-2 div.sk-label input.sk-toggleable__control:checked~label.sk-toggleable__label {\n",
       "  color: var(--sklearn-color-text);\n",
       "  background-color: var(--sklearn-color-unfitted-level-2);\n",
       "}\n",
       "\n",
       "#sk-container-id-2 div.sk-label.fitted input.sk-toggleable__control:checked~label.sk-toggleable__label {\n",
       "  background-color: var(--sklearn-color-fitted-level-2);\n",
       "}\n",
       "\n",
       "/* Estimator-specific style */\n",
       "\n",
       "/* Colorize estimator box */\n",
       "#sk-container-id-2 div.sk-estimator input.sk-toggleable__control:checked~label.sk-toggleable__label {\n",
       "  /* unfitted */\n",
       "  background-color: var(--sklearn-color-unfitted-level-2);\n",
       "}\n",
       "\n",
       "#sk-container-id-2 div.sk-estimator.fitted input.sk-toggleable__control:checked~label.sk-toggleable__label {\n",
       "  /* fitted */\n",
       "  background-color: var(--sklearn-color-fitted-level-2);\n",
       "}\n",
       "\n",
       "#sk-container-id-2 div.sk-label label.sk-toggleable__label,\n",
       "#sk-container-id-2 div.sk-label label {\n",
       "  /* The background is the default theme color */\n",
       "  color: var(--sklearn-color-text-on-default-background);\n",
       "}\n",
       "\n",
       "/* On hover, darken the color of the background */\n",
       "#sk-container-id-2 div.sk-label:hover label.sk-toggleable__label {\n",
       "  color: var(--sklearn-color-text);\n",
       "  background-color: var(--sklearn-color-unfitted-level-2);\n",
       "}\n",
       "\n",
       "/* Label box, darken color on hover, fitted */\n",
       "#sk-container-id-2 div.sk-label.fitted:hover label.sk-toggleable__label.fitted {\n",
       "  color: var(--sklearn-color-text);\n",
       "  background-color: var(--sklearn-color-fitted-level-2);\n",
       "}\n",
       "\n",
       "/* Estimator label */\n",
       "\n",
       "#sk-container-id-2 div.sk-label label {\n",
       "  font-family: monospace;\n",
       "  font-weight: bold;\n",
       "  display: inline-block;\n",
       "  line-height: 1.2em;\n",
       "}\n",
       "\n",
       "#sk-container-id-2 div.sk-label-container {\n",
       "  text-align: center;\n",
       "}\n",
       "\n",
       "/* Estimator-specific */\n",
       "#sk-container-id-2 div.sk-estimator {\n",
       "  font-family: monospace;\n",
       "  border: 1px dotted var(--sklearn-color-border-box);\n",
       "  border-radius: 0.25em;\n",
       "  box-sizing: border-box;\n",
       "  margin-bottom: 0.5em;\n",
       "  /* unfitted */\n",
       "  background-color: var(--sklearn-color-unfitted-level-0);\n",
       "}\n",
       "\n",
       "#sk-container-id-2 div.sk-estimator.fitted {\n",
       "  /* fitted */\n",
       "  background-color: var(--sklearn-color-fitted-level-0);\n",
       "}\n",
       "\n",
       "/* on hover */\n",
       "#sk-container-id-2 div.sk-estimator:hover {\n",
       "  /* unfitted */\n",
       "  background-color: var(--sklearn-color-unfitted-level-2);\n",
       "}\n",
       "\n",
       "#sk-container-id-2 div.sk-estimator.fitted:hover {\n",
       "  /* fitted */\n",
       "  background-color: var(--sklearn-color-fitted-level-2);\n",
       "}\n",
       "\n",
       "/* Specification for estimator info (e.g. \"i\" and \"?\") */\n",
       "\n",
       "/* Common style for \"i\" and \"?\" */\n",
       "\n",
       ".sk-estimator-doc-link,\n",
       "a:link.sk-estimator-doc-link,\n",
       "a:visited.sk-estimator-doc-link {\n",
       "  float: right;\n",
       "  font-size: smaller;\n",
       "  line-height: 1em;\n",
       "  font-family: monospace;\n",
       "  background-color: var(--sklearn-color-background);\n",
       "  border-radius: 1em;\n",
       "  height: 1em;\n",
       "  width: 1em;\n",
       "  text-decoration: none !important;\n",
       "  margin-left: 1ex;\n",
       "  /* unfitted */\n",
       "  border: var(--sklearn-color-unfitted-level-1) 1pt solid;\n",
       "  color: var(--sklearn-color-unfitted-level-1);\n",
       "}\n",
       "\n",
       ".sk-estimator-doc-link.fitted,\n",
       "a:link.sk-estimator-doc-link.fitted,\n",
       "a:visited.sk-estimator-doc-link.fitted {\n",
       "  /* fitted */\n",
       "  border: var(--sklearn-color-fitted-level-1) 1pt solid;\n",
       "  color: var(--sklearn-color-fitted-level-1);\n",
       "}\n",
       "\n",
       "/* On hover */\n",
       "div.sk-estimator:hover .sk-estimator-doc-link:hover,\n",
       ".sk-estimator-doc-link:hover,\n",
       "div.sk-label-container:hover .sk-estimator-doc-link:hover,\n",
       ".sk-estimator-doc-link:hover {\n",
       "  /* unfitted */\n",
       "  background-color: var(--sklearn-color-unfitted-level-3);\n",
       "  color: var(--sklearn-color-background);\n",
       "  text-decoration: none;\n",
       "}\n",
       "\n",
       "div.sk-estimator.fitted:hover .sk-estimator-doc-link.fitted:hover,\n",
       ".sk-estimator-doc-link.fitted:hover,\n",
       "div.sk-label-container:hover .sk-estimator-doc-link.fitted:hover,\n",
       ".sk-estimator-doc-link.fitted:hover {\n",
       "  /* fitted */\n",
       "  background-color: var(--sklearn-color-fitted-level-3);\n",
       "  color: var(--sklearn-color-background);\n",
       "  text-decoration: none;\n",
       "}\n",
       "\n",
       "/* Span, style for the box shown on hovering the info icon */\n",
       ".sk-estimator-doc-link span {\n",
       "  display: none;\n",
       "  z-index: 9999;\n",
       "  position: relative;\n",
       "  font-weight: normal;\n",
       "  right: .2ex;\n",
       "  padding: .5ex;\n",
       "  margin: .5ex;\n",
       "  width: min-content;\n",
       "  min-width: 20ex;\n",
       "  max-width: 50ex;\n",
       "  color: var(--sklearn-color-text);\n",
       "  box-shadow: 2pt 2pt 4pt #999;\n",
       "  /* unfitted */\n",
       "  background: var(--sklearn-color-unfitted-level-0);\n",
       "  border: .5pt solid var(--sklearn-color-unfitted-level-3);\n",
       "}\n",
       "\n",
       ".sk-estimator-doc-link.fitted span {\n",
       "  /* fitted */\n",
       "  background: var(--sklearn-color-fitted-level-0);\n",
       "  border: var(--sklearn-color-fitted-level-3);\n",
       "}\n",
       "\n",
       ".sk-estimator-doc-link:hover span {\n",
       "  display: block;\n",
       "}\n",
       "\n",
       "/* \"?\"-specific style due to the `<a>` HTML tag */\n",
       "\n",
       "#sk-container-id-2 a.estimator_doc_link {\n",
       "  float: right;\n",
       "  font-size: 1rem;\n",
       "  line-height: 1em;\n",
       "  font-family: monospace;\n",
       "  background-color: var(--sklearn-color-background);\n",
       "  border-radius: 1rem;\n",
       "  height: 1rem;\n",
       "  width: 1rem;\n",
       "  text-decoration: none;\n",
       "  /* unfitted */\n",
       "  color: var(--sklearn-color-unfitted-level-1);\n",
       "  border: var(--sklearn-color-unfitted-level-1) 1pt solid;\n",
       "}\n",
       "\n",
       "#sk-container-id-2 a.estimator_doc_link.fitted {\n",
       "  /* fitted */\n",
       "  border: var(--sklearn-color-fitted-level-1) 1pt solid;\n",
       "  color: var(--sklearn-color-fitted-level-1);\n",
       "}\n",
       "\n",
       "/* On hover */\n",
       "#sk-container-id-2 a.estimator_doc_link:hover {\n",
       "  /* unfitted */\n",
       "  background-color: var(--sklearn-color-unfitted-level-3);\n",
       "  color: var(--sklearn-color-background);\n",
       "  text-decoration: none;\n",
       "}\n",
       "\n",
       "#sk-container-id-2 a.estimator_doc_link.fitted:hover {\n",
       "  /* fitted */\n",
       "  background-color: var(--sklearn-color-fitted-level-3);\n",
       "}\n",
       "</style><div id=\"sk-container-id-2\" class=\"sk-top-container\"><div class=\"sk-text-repr-fallback\"><pre>MultinomialNB()</pre><b>In a Jupyter environment, please rerun this cell to show the HTML representation or trust the notebook. <br />On GitHub, the HTML representation is unable to render, please try loading this page with nbviewer.org.</b></div><div class=\"sk-container\" hidden><div class=\"sk-item\"><div class=\"sk-estimator fitted sk-toggleable\"><input class=\"sk-toggleable__control sk-hidden--visually\" id=\"sk-estimator-id-2\" type=\"checkbox\" checked><label for=\"sk-estimator-id-2\" class=\"sk-toggleable__label fitted sk-toggleable__label-arrow fitted\">&nbsp;&nbsp;MultinomialNB<a class=\"sk-estimator-doc-link fitted\" rel=\"noreferrer\" target=\"_blank\" href=\"https://scikit-learn.org/1.5/modules/generated/sklearn.naive_bayes.MultinomialNB.html\">?<span>Documentation for MultinomialNB</span></a><span class=\"sk-estimator-doc-link fitted\">i<span>Fitted</span></span></label><div class=\"sk-toggleable__content fitted\"><pre>MultinomialNB()</pre></div> </div></div></div></div>"
      ],
      "text/plain": [
       "MultinomialNB()"
      ]
     },
     "execution_count": 32,
     "metadata": {},
     "output_type": "execute_result"
    }
   ],
   "source": [
    "from sklearn.naive_bayes import MultinomialNB\n",
    "model_ = MultinomialNB()\n",
    "model_.fit(x_train, y_train)"
   ]
  },
  {
   "cell_type": "code",
   "execution_count": 33,
   "id": "8e7bcc39-3ec0-4d0c-bd80-821fd89c5fbe",
   "metadata": {},
   "outputs": [
    {
     "name": "stdout",
     "output_type": "stream",
     "text": [
      "0.6666666666666666               precision    recall  f1-score   support\n",
      "\n",
      "       angry       0.50      0.50      0.50         2\n",
      "     neutral       1.00      1.00      1.00         2\n",
      "       happy       0.50      0.50      0.50         2\n",
      "\n",
      "    accuracy                           0.67         6\n",
      "   macro avg       0.67      0.67      0.67         6\n",
      "weighted avg       0.67      0.67      0.67         6\n",
      "\n"
     ]
    }
   ],
   "source": [
    "from sklearn.metrics import accuracy_score, classification_report\n",
    "#Prediction\n",
    "y_pred = model_.predict(x_test)\n",
    "\n",
    "#Evaluation\n",
    "accuracy = accuracy_score(y_test, y_pred)\n",
    "report = classification_report(y_test, y_pred, target_names=['angry','neutral','happy'])\n",
    "\n",
    "print(accuracy, report)"
   ]
  },
  {
   "cell_type": "markdown",
   "id": "079ee80e-d76c-4fb3-a5f9-930ddc603f1f",
   "metadata": {},
   "source": [
    "#### ***OWN MODEL***"
   ]
  },
  {
   "cell_type": "code",
   "execution_count": 34,
   "id": "bd6e385d-83da-4b68-acd8-4c6bec8a4d76",
   "metadata": {},
   "outputs": [],
   "source": [
    "import nltk\n",
    "from nltk.corpus import stopwords\n",
    "from string import punctuation\n",
    "\n",
    "def clean_text(text):\n",
    "    # Download stopwords if not already downloaded (comment out if you have them)\n",
    "    #nltk.download('stopwords')\n",
    "    # Get stopwords in English\n",
    "    stop_words = set(stopwords.words('english'))\n",
    "    # Combine punctuation and lowercase for case-insensitivity\n",
    "    punc_lower = set(punctuation.lower())\n",
    "    # Remove stop words and punctuation\n",
    "    filtered_words = [word for word in text.lower().split() if word not in stop_words and word not in punc_lower]\n",
    "    # Join the filtered words back into a string\n",
    "    return \" \".join(filtered_words)\n",
    "\n",
    "# Example usage\n",
    "#text = \"This is to remove stop words. Will it?.\"\n",
    "#cleaned_text = remove_stopwords_punctuation(text)\n",
    "#print(cleaned_text)\n"
   ]
  },
  {
   "cell_type": "code",
   "execution_count": 35,
   "id": "009d9714-1293-4ba0-82bf-64bfea9d344b",
   "metadata": {},
   "outputs": [],
   "source": [
    "def features(data) :\n",
    "    word_count = {}\n",
    "    data = data.lower()\n",
    "    #print(data)\n",
    "    for word in data.split(' ') :\n",
    "        #print()\n",
    "        if word in word_count :\n",
    "            word_count[word] += 1\n",
    "        else :\n",
    "            word_count[word] = 1\n",
    "    return word_count"
   ]
  },
  {
   "cell_type": "code",
   "execution_count": 36,
   "id": "21131c9d-4a2e-4390-8cfb-c9e1e6d58e94",
   "metadata": {},
   "outputs": [
    {
     "data": {
      "text/plain": [
       "30"
      ]
     },
     "execution_count": 36,
     "metadata": {},
     "output_type": "execute_result"
    }
   ],
   "source": [
    "df['line'] = df['line'].apply(clean_text)\n",
    "df['word_count'] = df['line'].apply(features)\n",
    "len(df['word_count'])"
   ]
  },
  {
   "cell_type": "code",
   "execution_count": 37,
   "id": "aa5d7bdc-6b1c-4c8a-b04d-d95c82a10039",
   "metadata": {},
   "outputs": [],
   "source": [
    "#Train-test-split\n",
    "x_train, x_test, y_train, y_test = train_test_split(df['line'], y, test_size = 0.2, random_state=42) "
   ]
  },
  {
   "cell_type": "code",
   "execution_count": 38,
   "id": "2ef11323-1075-48ae-b8f8-8fe0f48dbccf",
   "metadata": {},
   "outputs": [
    {
     "data": {
      "text/plain": [
       "array([0.33333333, 0.33333333, 0.33333333])"
      ]
     },
     "execution_count": 38,
     "metadata": {},
     "output_type": "execute_result"
    }
   ],
   "source": [
    "count = np.zeros(3)\n",
    "p_class = np.zeros(3)\n",
    "for x in y :\n",
    "    count[x] += 1\n",
    "for x in y :\n",
    "    p_class[x] = count[x]/np.sum(count)\n",
    "p_class"
   ]
  },
  {
   "cell_type": "code",
   "execution_count": 39,
   "id": "99e99c55-a3bb-4741-8714-22f8ff52a33b",
   "metadata": {},
   "outputs": [],
   "source": [
    "import math\n",
    "#This was as sample to do\n",
    "def naive_bayes(data, num_label):\n",
    "    p_features_class = {}\n",
    "    word_count = features(data)\n",
    "    sum_ = sum(word_count.values())\n",
    "    for word, value in word_count.items():\n",
    "        p_features_class[word] = value/sum_\n",
    "    product = math.prod(p_features_class.values())\n",
    "    p_class_feature = [product*p_class[x] for x in range(num_label)]\n",
    "    f_label = np.argmax(p_class_feature)\n",
    "    return f_label"
   ]
  },
  {
   "cell_type": "code",
   "execution_count": 17,
   "id": "8b36b8e4-52ee-4f66-8dc4-cf03d45059a2",
   "metadata": {},
   "outputs": [
    {
     "name": "stdout",
     "output_type": "stream",
     "text": [
      "Predicted label: 0\n"
     ]
    }
   ],
   "source": [
    "new_data = \"This is a nice day!\"  # Replace with your new data\n",
    "predicted_label = naive_bayes(new_data, 3)\n",
    "print(\"Predicted label:\", predicted_label)"
   ]
  },
  {
   "cell_type": "markdown",
   "id": "03ef0275-b0a7-4da0-8f5b-1b92c03ccd1e",
   "metadata": {},
   "source": [
    "#### ***Training***"
   ]
  },
  {
   "cell_type": "code",
   "execution_count": 40,
   "id": "6a81a328-b083-49a2-8724-dad8b7fcdba7",
   "metadata": {},
   "outputs": [],
   "source": [
    "def train_naive_bayes(X_train, y_train, num_label):\n",
    "    p_features_class = {}\n",
    "    for data, label in zip(X_train, y_train):\n",
    "        word_count = features(data)\n",
    "        sum_ = sum(word_count.values())\n",
    "        for word, value in word_count.items():\n",
    "            if word in p_features_class:\n",
    "                p_features_class[word][label] = p_features_class[word].get(label, 0) + value/sum_\n",
    "            else:\n",
    "                p_features_class[word] = {k: 0 for k in range(num_label)}\n",
    "                p_features_class[word][label] = value/sum_\n",
    "    return p_features_class\n",
    "\n",
    "p_features_class = train_naive_bayes(x_train, y_train, 3)"
   ]
  },
  {
   "cell_type": "markdown",
   "id": "82fdb5e7-f8c1-44f7-9cd2-99928704c590",
   "metadata": {},
   "source": [
    "#### ***Evaluating***"
   ]
  },
  {
   "cell_type": "code",
   "execution_count": 41,
   "id": "23b9e410-100a-4664-9e35-734463bf5211",
   "metadata": {},
   "outputs": [
    {
     "name": "stdout",
     "output_type": "stream",
     "text": [
      "Accuracy: 0.3333333333333333\n",
      "Precision: 0.25\n",
      "Recall: 0.3333333333333333\n",
      "F1-score: 0.27777777777777773\n"
     ]
    },
    {
     "name": "stderr",
     "output_type": "stream",
     "text": [
      "/Users/mohana25/Library/Python/3.9/lib/python/site-packages/sklearn/metrics/_classification.py:1531: UndefinedMetricWarning: Precision is ill-defined and being set to 0.0 in labels with no predicted samples. Use `zero_division` parameter to control this behavior.\n",
      "  _warn_prf(average, modifier, f\"{metric.capitalize()} is\", len(result))\n"
     ]
    }
   ],
   "source": [
    "from sklearn.metrics import accuracy_score, precision_score, recall_score, f1_score\n",
    "\n",
    "def predict_naive_bayes(X_test, p_features_class, num_label, smoothing=1):\n",
    "    y_pred = []\n",
    "    for data in X_test:\n",
    "        word_count = features(data)\n",
    "        sum_ = sum(word_count.values()) + smoothing * len(word_count)\n",
    "        p_class_feature = [1 for _ in range(num_label)]\n",
    "        for word, value in word_count.items():\n",
    "            if word in p_features_class:\n",
    "                for j in range(num_label):\n",
    "                    p_class_feature[j] *= p_features_class[word].get(j, 0)\n",
    "            else:\n",
    "                for j in range(num_label):\n",
    "                    p_class_feature[j] *= smoothing / num_label\n",
    "        f_label = np.argmax(p_class_feature)\n",
    "        y_pred.append(f_label)\n",
    "    return y_pred\n",
    "\n",
    "y_pred = predict_naive_bayes(x_test, p_features_class, 3)\n",
    "accuracy = accuracy_score(y_test, y_pred)\n",
    "precision = precision_score(y_test, y_pred, average='weighted')\n",
    "recall = recall_score(y_test, y_pred, average='weighted')\n",
    "f1 = f1_score(y_test, y_pred, average='weighted')\n",
    "print(\"Accuracy:\", accuracy)\n",
    "print(\"Precision:\", precision)\n",
    "print(\"Recall:\", recall)\n",
    "print(\"F1-score:\", f1)"
   ]
  },
  {
   "cell_type": "markdown",
   "id": "9193a5b6-4b74-402f-88e8-cf7d8c479899",
   "metadata": {},
   "source": [
    "#### ***APPLYING THIS ON TARGET IMAGES***"
   ]
  },
  {
   "cell_type": "code",
   "execution_count": null,
   "id": "2539dbb9-01f6-43f1-9f63-a67431c562b3",
   "metadata": {},
   "outputs": [],
   "source": [
    "# List of image file paths\n",
    "image_files = ['line_1.png', 'line_2.png', 'line_3.png', 'line_4.png', 'line_5.png', 'line_6.png']\n",
    "\n",
    "for image_path in image_paths:\n",
    "    # Load the image using OpenCV\n",
    "    img = cv2.imread(image_path, cv2.IMREAD_GRAYSCALE)\n",
    "    # Check if the image is loaded successfully\n",
    "    if img is None:\n",
    "        print(\"Error loading image\")\n",
    "    else:\n",
    "        # Resize the image to 28x28 pixels\n",
    "        img = cv2.resize(img, (28, 28))\n",
    "        \n",
    "        # Convert the image to a numpy array\n",
    "        img_array = np.array(img)\n",
    "        \n",
    "        # Reshape the image array to match the model input shape\n",
    "        img_array = img_array.reshape((1, 28, 28, 1))\n",
    "        \n",
    "        # Normalize the image array to range [0,1]\n",
    "        img_array = img_array / 255.0\n",
    "        \n",
    "        # Make predictions\n",
    "        pred_text = model.predict(img_array)\n",
    "\n",
    "        # Get the index of the highest probability\n",
    "        pred_index = np.argmax(pred_text)\n",
    "   \n",
    "       # Convert the index to the corresponding alphabet\n",
    "        pred_text = chr(pred_index + 65)\n",
    "        \n",
    "        # Print the predicted text\n",
    "        print(\"Predicted text for image\", image_path, \":\", pred_text)"
   ]
  },
  {
   "cell_type": "code",
   "execution_count": null,
   "id": "c0857e77-2fd7-44b6-8e6f-0f584320398a",
   "metadata": {},
   "outputs": [],
   "source": [
    "y_pred = predict_naive_bayes(pred_index, p_features_class, 3)"
   ]
  },
  {
   "cell_type": "code",
   "execution_count": null,
   "id": "ac5f3fa9-2533-4bce-8616-27209c5aa749",
   "metadata": {},
   "outputs": [],
   "source": [
    "target_labels = df.read_csv('target_labels.csv')\n",
    "y_target = target_labels['sentiment'].map({'Happy':1, 'Neutral':0, 'Angry':-1})\n",
    "accuracy = accuracy_score(y_target, y_pred)\n",
    "precision = precision_score(y_target, y_pred, average='weighted')\n",
    "recall = recall_score(y_target, y_pred, average='weighted')\n",
    "f1 = f1_score(y_test, y_pred, average='weighted')\n",
    "print(\"Accuracy:\", accuracy)\n",
    "print(\"Precision:\", precision)\n",
    "print(\"Recall:\", recall)\n",
    "print(\"F1-score:\", f1)"
   ]
  },
  {
   "cell_type": "code",
   "execution_count": null,
   "id": "bbd69ec0-31fe-43cd-8ce8-63a584ed7b51",
   "metadata": {},
   "outputs": [],
   "source": []
  }
 ],
 "metadata": {
  "kernelspec": {
   "display_name": "Python 3 (ipykernel)",
   "language": "python",
   "name": "python3"
  },
  "language_info": {
   "codemirror_mode": {
    "name": "ipython",
    "version": 3
   },
   "file_extension": ".py",
   "mimetype": "text/x-python",
   "name": "python",
   "nbconvert_exporter": "python",
   "pygments_lexer": "ipython3",
   "version": "3.9.6"
  }
 },
 "nbformat": 4,
 "nbformat_minor": 5
}
